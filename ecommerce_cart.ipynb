{
 "cells": [
  {
   "cell_type": "code",
   "execution_count": 1,
   "id": "a7443798",
   "metadata": {},
   "outputs": [
    {
     "name": "stdout",
     "output_type": "stream",
     "text": [
      "Total Price: 54000\n"
     ]
    }
   ],
   "source": [
    "def calculate_total(cart_items):\n",
    "    if not cart_items:\n",
    "        return \"Cart is empty\"\n",
    "    total = sum(cart_items.values())\n",
    "    if len(cart_items) > 5:\n",
    "        total *= 0.9 \n",
    "    return f\"Total Price: {int(total)}\"\n",
    "cart_items = {'Laptop': 50000, 'Headphones': 2000, 'Mouse': 500, 'Keyboard': 1500}\n",
    "print(calculate_total(cart_items))"
   ]
  },
  {
   "cell_type": "code",
   "execution_count": null,
   "id": "a9f095db",
   "metadata": {},
   "outputs": [],
   "source": []
  }
 ],
 "metadata": {
  "kernelspec": {
   "display_name": "Python 3",
   "language": "python",
   "name": "python3"
  },
  "language_info": {
   "codemirror_mode": {
    "name": "ipython",
    "version": 3
   },
   "file_extension": ".py",
   "mimetype": "text/x-python",
   "name": "python",
   "nbconvert_exporter": "python",
   "pygments_lexer": "ipython3",
   "version": "3.13.2"
  }
 },
 "nbformat": 4,
 "nbformat_minor": 5
}
