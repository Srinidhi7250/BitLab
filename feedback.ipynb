{
 "cells": [
  {
   "cell_type": "code",
   "execution_count": 1,
   "id": "843bb798",
   "metadata": {},
   "outputs": [
    {
     "name": "stdout",
     "output_type": "stream",
     "text": [
      "Positive Feedback: 62.5%\n"
     ]
    }
   ],
   "source": [
    "def calculate_positive_feedback_percentage(ratings):\n",
    "    if not ratings:\n",
    "        return \"No ratings available\"\n",
    "    positive = [r for r in ratings if r >= 4]\n",
    "    percentage = (len(positive) / len(ratings)) * 100\n",
    "    return f\"Positive Feedback: {round(percentage, 2)}%\"\n",
    "ratings = [5, 4, 3, 5, 2, 4, 1, 5]\n",
    "print(calculate_positive_feedback_percentage(ratings))\n"
   ]
  }
 ],
 "metadata": {
  "kernelspec": {
   "display_name": "Python 3",
   "language": "python",
   "name": "python3"
  },
  "language_info": {
   "codemirror_mode": {
    "name": "ipython",
    "version": 3
   },
   "file_extension": ".py",
   "mimetype": "text/x-python",
   "name": "python",
   "nbconvert_exporter": "python",
   "pygments_lexer": "ipython3",
   "version": "3.13.2"
  }
 },
 "nbformat": 4,
 "nbformat_minor": 5
}
