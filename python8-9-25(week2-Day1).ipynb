{
 "cells": [
  {
   "cell_type": "code",
   "execution_count": 5,
   "id": "8eda5929",
   "metadata": {},
   "outputs": [
    {
     "name": "stdout",
     "output_type": "stream",
     "text": [
      "[2, 3]\n"
     ]
    }
   ],
   "source": [
    "def find_primes(n):\n",
    "    primes=[]\n",
    "    for num in range(2, n+1):\n",
    "        is_prime=True\n",
    "        for i in range(2, int(num**0.5)+1):\n",
    "            if num % 1== 0:\n",
    "                is_prime=False\n",
    "                break\n",
    "        if is_prime:\n",
    "            primes.append(num)\n",
    "    return primes\n",
    "print(find_primes(10))\n",
    "\n",
    "        \n"
   ]
  },
  {
   "cell_type": "code",
   "execution_count": 8,
   "id": "7c7c2c1d",
   "metadata": {},
   "outputs": [
    {
     "name": "stdout",
     "output_type": "stream",
     "text": [
      "True\n"
     ]
    }
   ],
   "source": [
    "def is_palindrome(s):\n",
    "    s=s.lower().replace(\" \", \"\")\n",
    "    return s == s[::-1]\n",
    "text = \"Never odd or even\"\n",
    "print(is_palindrome(text))"
   ]
  },
  {
   "cell_type": "code",
   "execution_count": 9,
   "id": "e6b2a570",
   "metadata": {},
   "outputs": [
    {
     "name": "stdout",
     "output_type": "stream",
     "text": [
      "True\n"
     ]
    }
   ],
   "source": [
    "def is_anagram(s1,s2):\n",
    "    return sorted(s1.lower()) == sorted(s2.lower())\n",
    "print(is_anagram(\"listen\" , \"silent\"))"
   ]
  },
  {
   "cell_type": "code",
   "execution_count": 11,
   "id": "74e2c9a5",
   "metadata": {},
   "outputs": [
    {
     "name": "stdout",
     "output_type": "stream",
     "text": [
      "(2, 3)\n"
     ]
    }
   ],
   "source": [
    "def count_vowels_consonants(s):\n",
    "    vowels=\"aeiou\"\n",
    "    v_count = c_count = 0\n",
    "    for ch in s.lower():\n",
    "        if ch.isalpha():\n",
    "            if ch in vowels:\n",
    "                v_count += 1\n",
    "            else:\n",
    "                c_count += 1\n",
    "    return v_count , c_count\n",
    "print(count_vowels_consonants(\"Hello\"))"
   ]
  },
  {
   "cell_type": "code",
   "execution_count": 12,
   "id": "7064ba0c",
   "metadata": {},
   "outputs": [
    {
     "name": "stdout",
     "output_type": "stream",
     "text": [
      "amazing\n"
     ]
    }
   ],
   "source": [
    "a = \"Python is amazing\"\n",
    "words = a.split()\n",
    "length = max(words, key=len)\n",
    "print(length)"
   ]
  },
  {
   "cell_type": "code",
   "execution_count": 15,
   "id": "a77e2d70",
   "metadata": {},
   "outputs": [
    {
     "name": "stdout",
     "output_type": "stream",
     "text": [
      ":B37Iy\n"
     ]
    }
   ],
   "source": [
    "import random, string\n",
    "\n",
    "length = int(input(\"Enter password length: \"))\n",
    "chars = string.ascii_letters + string.digits + string.punctuation\n",
    "password = \"\".join(random.choice(chars) for _ in range(length))\n",
    "print(password)\n"
   ]
  },
  {
   "cell_type": "code",
   "execution_count": 17,
   "id": "c38c3172",
   "metadata": {},
   "outputs": [
    {
     "name": "stdout",
     "output_type": "stream",
     "text": [
      "5.0\n",
      "15511210043330985984000000\n",
      "-0.13235175009777303\n",
      "0.9912028118634736\n"
     ]
    }
   ],
   "source": [
    "import math\n",
    "a = int((input(\"Enter a number\")))\n",
    "print(math.sqrt(a))\n",
    "print(math.factorial(a))\n",
    "print(math.sin(a))\n",
    "print(math.cos(a))\n"
   ]
  },
  {
   "cell_type": "code",
   "execution_count": 18,
   "id": "7426cccc",
   "metadata": {},
   "outputs": [
    {
     "name": "stdout",
     "output_type": "stream",
     "text": [
      "{'cat': 2, 'dog': 1}\n"
     ]
    }
   ],
   "source": [
    "from collections import Counter\n",
    "text = input(\"enter a sentence\")\n",
    "words = text.split()\n",
    "freq = Counter(words)\n",
    "print(dict(freq))"
   ]
  },
  {
   "cell_type": "code",
   "execution_count": null,
   "id": "fba57711",
   "metadata": {},
   "outputs": [],
   "source": []
  }
 ],
 "metadata": {
  "kernelspec": {
   "display_name": "Python 3",
   "language": "python",
   "name": "python3"
  },
  "language_info": {
   "codemirror_mode": {
    "name": "ipython",
    "version": 3
   },
   "file_extension": ".py",
   "mimetype": "text/x-python",
   "name": "python",
   "nbconvert_exporter": "python",
   "pygments_lexer": "ipython3",
   "version": "3.13.2"
  }
 },
 "nbformat": 4,
 "nbformat_minor": 5
}
