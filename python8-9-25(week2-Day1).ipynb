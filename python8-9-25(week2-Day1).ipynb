{
 "cells": [
  {
   "cell_type": "code",
   "execution_count": 5,
   "id": "8eda5929",
   "metadata": {},
   "outputs": [
    {
     "name": "stdout",
     "output_type": "stream",
     "text": [
      "[2, 3]\n"
     ]
    }
   ],
   "source": [
    "def find_primes(n):\n",
    "    primes=[]\n",
    "    for num in range(2, n+1):\n",
    "        is_prime=True\n",
    "        for i in range(2, int(num**0.5)+1):\n",
    "            if num % 1== 0:\n",
    "                is_prime=False\n",
    "                break\n",
    "        if is_prime:\n",
    "            primes.append(num)\n",
    "    return primes\n",
    "print(find_primes(10))\n",
    "\n",
    "        \n"
   ]
  },
  {
   "cell_type": "code",
   "execution_count": 8,
   "id": "7c7c2c1d",
   "metadata": {},
   "outputs": [
    {
     "name": "stdout",
     "output_type": "stream",
     "text": [
      "True\n"
     ]
    }
   ],
   "source": [
    "def is_palindrome(s):\n",
    "    s=s.lower().replace(\" \", \"\")\n",
    "    return s == s[::-1]\n",
    "text = \"Never odd or even\"\n",
    "print(is_palindrome(text))"
   ]
  },
  {
   "cell_type": "code",
   "execution_count": 9,
   "id": "e6b2a570",
   "metadata": {},
   "outputs": [
    {
     "name": "stdout",
     "output_type": "stream",
     "text": [
      "True\n"
     ]
    }
   ],
   "source": [
    "def is_anagram(s1,s2):\n",
    "    return sorted(s1.lower()) == sorted(s2.lower())\n",
    "print(is_anagram(\"listen\" , \"silent\"))"
   ]
  },
  {
   "cell_type": "code",
   "execution_count": 11,
   "id": "74e2c9a5",
   "metadata": {},
   "outputs": [
    {
     "name": "stdout",
     "output_type": "stream",
     "text": [
      "(2, 3)\n"
     ]
    }
   ],
   "source": [
    "def count_vowels_consonants(s):\n",
    "    vowels=\"aeiou\"\n",
    "    v_count = c_count = 0\n",
    "    for ch in s.lower():\n",
    "        if ch.isalpha():\n",
    "            if ch in vowels:\n",
    "                v_count += 1\n",
    "            else:\n",
    "                c_count += 1\n",
    "    return v_count , c_count\n",
    "print(count_vowels_consonants(\"Hello\"))"
   ]
  },
  {
   "cell_type": "code",
   "execution_count": 12,
   "id": "7064ba0c",
   "metadata": {},
   "outputs": [
    {
     "name": "stdout",
     "output_type": "stream",
     "text": [
      "amazing\n"
     ]
    }
   ],
   "source": [
    "a = \"Python is amazing\"\n",
    "words = a.split()\n",
    "length = max(words, key=len)\n",
    "print(length)"
   ]
  },
  {
   "cell_type": "code",
   "execution_count": 15,
   "id": "a77e2d70",
   "metadata": {},
   "outputs": [
    {
     "name": "stdout",
     "output_type": "stream",
     "text": [
      ":B37Iy\n"
     ]
    }
   ],
   "source": [
    "import random, string\n",
    "\n",
    "length = int(input(\"Enter password length: \"))\n",
    "chars = string.ascii_letters + string.digits + string.punctuation\n",
    "password = \"\".join(random.choice(chars) for _ in range(length))\n",
    "print(password)\n"
   ]
  },
  {
   "cell_type": "code",
   "execution_count": 17,
   "id": "c38c3172",
   "metadata": {},
   "outputs": [
    {
     "name": "stdout",
     "output_type": "stream",
     "text": [
      "5.0\n",
      "15511210043330985984000000\n",
      "-0.13235175009777303\n",
      "0.9912028118634736\n"
     ]
    }
   ],
   "source": [
    "import math\n",
    "a = int((input(\"Enter a number\")))\n",
    "print(math.sqrt(a))\n",
    "print(math.factorial(a))\n",
    "print(math.sin(a))\n",
    "print(math.cos(a))\n"
   ]
  },
  {
   "cell_type": "code",
   "execution_count": 18,
   "id": "7426cccc",
   "metadata": {},
   "outputs": [
    {
     "name": "stdout",
     "output_type": "stream",
     "text": [
      "{'cat': 2, 'dog': 1}\n"
     ]
    }
   ],
   "source": [
    "from collections import Counter\n",
    "text = input(\"enter a sentence\")\n",
    "words = text.split()\n",
    "freq = Counter(words)\n",
    "print(dict(freq))"
   ]
  },
  {
   "cell_type": "code",
   "execution_count": 1,
   "id": "fba57711",
   "metadata": {},
   "outputs": [
    {
     "name": "stdout",
     "output_type": "stream",
     "text": [
      "Today's weather is Windy with a temperature of 40)\n"
     ]
    }
   ],
   "source": [
    "import random\n",
    "conditions =[\"Sunny\", \"Rainy\", \"Cloudy\", \"Windy\", \"Stromy\"]\n",
    "condition = random.choice(conditions)\n",
    "temperature = random.randint(15, 40)\n",
    "print(f\"Today's weather is {condition} with a temperature of {temperature})\")"
   ]
  },
  {
   "cell_type": "code",
   "execution_count": 2,
   "id": "41977b94",
   "metadata": {},
   "outputs": [
    {
     "name": "stdout",
     "output_type": "stream",
     "text": [
      "5\n",
      "Time is up!\n",
      "4\n",
      "Time is up!\n",
      "3\n",
      "Time is up!\n",
      "2\n",
      "Time is up!\n",
      "1\n",
      "Time is up!\n"
     ]
    }
   ],
   "source": [
    "import time\n",
    "def countdown(n):\n",
    "    while n > 0:\n",
    "        print(n)\n",
    "        time.sleep(1)\n",
    "        n -= 1\n",
    "        print(\"Time is up!\")\n",
    "countdown(5)"
   ]
  },
  {
   "cell_type": "code",
   "execution_count": 4,
   "id": "267c13a1",
   "metadata": {},
   "outputs": [
    {
     "name": "stdout",
     "output_type": "stream",
     "text": [
      "120\n"
     ]
    }
   ],
   "source": [
    "class BankAccount:\n",
    "    def __init__(self, balance):\n",
    "        self.balance = balance\n",
    "    def deposit(self, amount):\n",
    "        self.balance += amount\n",
    "    def withdraw(self, amount):\n",
    "        if amount <= self.balance:\n",
    "            self.balance -= amount\n",
    "        else:\n",
    "            print(\"Insufficient funds\")\n",
    "    def get_balance(self):\n",
    "        return self.balance\n",
    "    \n",
    "acc = BankAccount(100)\n",
    "acc.deposit(50)\n",
    "acc.withdraw(30)\n",
    "print(acc.get_balance())"
   ]
  },
  {
   "cell_type": "code",
   "execution_count": 5,
   "id": "f172ba30",
   "metadata": {},
   "outputs": [
    {
     "name": "stdout",
     "output_type": "stream",
     "text": [
      "85.0\n",
      "95\n"
     ]
    }
   ],
   "source": [
    "class Student:\n",
    "    def __init__(self, name, marks):\n",
    "        self.name = name\n",
    "        self.marks = marks\n",
    "    def get_average(self):\n",
    "        return sum(self.marks) / len(self.marks)\n",
    "    def add_mark(self, mark):\n",
    "        self.marks.append(mark)\n",
    "    def get_highest(self):\n",
    "        return max(self.marks)\n",
    "    def get_lowest(self):\n",
    "        return min(self.marks)\n",
    "s = Student(\"Tom\", [90, 80, 85])\n",
    "print(s.get_average())\n",
    "s.add_mark(95)\n",
    "print(s.get_highest())"
   ]
  },
  {
   "cell_type": "code",
   "execution_count": 6,
   "id": "7dec7635",
   "metadata": {},
   "outputs": [
    {
     "name": "stdout",
     "output_type": "stream",
     "text": [
      "10000.0\n"
     ]
    }
   ],
   "source": [
    "class Employee:\n",
    "    def __init__(self, name, salary, role):\n",
    "        self.name = name\n",
    "        self.salary = salary\n",
    "        self.role = role\n",
    "    def bonus(self):\n",
    "        if self.role == \"Manager\":\n",
    "            return self.salary * 0.2\n",
    "        elif self.role == \"Developer\":\n",
    "            return self.salary * 0.1\n",
    "        elif self.role == \"Intern\":\n",
    "            return self.salary * 0.05\n",
    "        else:\n",
    "            return 0\n",
    "m = Employee(\"Alice\", 50000, \"Manager\")\n",
    "print(m.bonus())  # 10000\n"
   ]
  },
  {
   "cell_type": "code",
   "execution_count": 7,
   "id": "ae17250e",
   "metadata": {},
   "outputs": [
    {
     "name": "stdout",
     "output_type": "stream",
     "text": [
      "153.94\n",
      "20\n"
     ]
    }
   ],
   "source": [
    "import math\n",
    "class Circle:\n",
    "    def __init__(self, radius):\n",
    "        self.radius = radius\n",
    "    def area(self):\n",
    "        return round(math.pi * self.radius ** 2, 2)\n",
    "class Rectangle:\n",
    "    def __init__(self, width, height):\n",
    "        self.width = width\n",
    "        self.height = height\n",
    "    def area(self):\n",
    "        return self.width * self.height\n",
    "c = Circle(7)\n",
    "print(c.area())   \n",
    "\n",
    "r = Rectangle(4, 5)\n",
    "print(r.area())   \n"
   ]
  },
  {
   "cell_type": "code",
   "execution_count": 9,
   "id": "205ccdfc",
   "metadata": {},
   "outputs": [
    {
     "name": "stdout",
     "output_type": "stream",
     "text": [
      "2000\n"
     ]
    }
   ],
   "source": [
    "class Order:\n",
    "    def __init__(self):\n",
    "        self.items = {}\n",
    "    def add(self, item, price):\n",
    "        self.items[item] = price\n",
    "    def remove(self, item):\n",
    "        if item in self.items:\n",
    "            del self.items[item]\n",
    "    def calculate_total(self):\n",
    "        return sum(self.items.values())\n",
    "    def show_items(self):\n",
    "        for item, price in self.items.items():\n",
    "            print(f\"{item}: {price}\")\n",
    "order = Order()\n",
    "order.add(\"Shirt\", 500)\n",
    "order.add(\"Shoes\", 1500)\n",
    "print( order.calculate_total())  \n"
   ]
  },
  {
   "cell_type": "code",
   "execution_count": 1,
   "id": "7f34b474",
   "metadata": {},
   "outputs": [
    {
     "name": "stdout",
     "output_type": "stream",
     "text": [
      "[0, 1, 1, 2, 3, 5, 8]\n"
     ]
    }
   ],
   "source": [
    "def fibonacci(n):\n",
    "    seq = [0,1]\n",
    "    for i  in range(2, n):\n",
    "        seq.append(seq[-1] + seq[-2])\n",
    "    return seq[:n]\n",
    "print(fibonacci(7))"
   ]
  },
  {
   "cell_type": "code",
   "execution_count": 2,
   "id": "79e56133",
   "metadata": {},
   "outputs": [
    {
     "name": "stdout",
     "output_type": "stream",
     "text": [
      "120\n"
     ]
    }
   ],
   "source": [
    "def factorial(n):\n",
    "    if n == 0 or n == 1:\n",
    "        return 1\n",
    "    else:\n",
    "        return n * factorial(n-1)\n",
    "print(factorial(5))"
   ]
  },
  {
   "cell_type": "code",
   "execution_count": 3,
   "id": "2fc01a09",
   "metadata": {},
   "outputs": [
    {
     "name": "stdout",
     "output_type": "stream",
     "text": [
      "{'apple': 2, 'banana': 2, 'orange': 1}\n"
     ]
    }
   ],
   "source": [
    "s = \"apple banana apple orange banana\"\n",
    "words = s.split()\n",
    "count = {}\n",
    "for w in words:\n",
    "    if w in count:\n",
    "        count[w] += 1\n",
    "    else:\n",
    "        count[w] = 1\n",
    "print(count)"
   ]
  },
  {
   "cell_type": "code",
   "execution_count": 4,
   "id": "aca23813",
   "metadata": {},
   "outputs": [
    {
     "name": "stdout",
     "output_type": "stream",
     "text": [
      "Grade: B\n"
     ]
    }
   ],
   "source": [
    "def grade_calculator(marks):\n",
    "    avg = sum(marks) / len(marks)\n",
    "    if avg >= 85:\n",
    "        return \"Grade: A\"\n",
    "    elif avg >= 70:\n",
    "        return \"Grade: B\"\n",
    "    elif avg >= 50:\n",
    "        return \"Grade: C\"\n",
    "    else:\n",
    "        return \"Grade: F\"\n",
    "print(grade_calculator([85, 90, 78]))\n"
   ]
  },
  {
   "cell_type": "code",
   "execution_count": 5,
   "id": "5b5ac7ed",
   "metadata": {},
   "outputs": [
    {
     "name": "stdout",
     "output_type": "stream",
     "text": [
      "10\n"
     ]
    }
   ],
   "source": [
    "def second_largest(nums):\n",
    "    nums = list(set(nums))\n",
    "    nums.sort()\n",
    "    return nums[-2]\n",
    "print(second_largest([10, 5, 20, 8 ]))"
   ]
  },
  {
   "cell_type": "code",
   "execution_count": null,
   "id": "92e419ff",
   "metadata": {},
   "outputs": [
    {
     "name": "stdout",
     "output_type": "stream",
     "text": [
      "Text files: 2\n",
      "Python files: 2\n"
     ]
    }
   ],
   "source": [
    "files = [\"notes.txt\", \"app.py\", \"data.csv\", \"report.txt\", \"main.py\"]\n",
    "txt = 0\n",
    "py = 0\n",
    "for f in files:\n",
    "    if f.endswith(\".txt\"):\n",
    "        txt += 1\n",
    "    elif f.endswith(\".py\"):\n",
    "        py += 1\n",
    "print(\"Text files:\", txt)\n",
    "print(\"Python files:\", py)"
   ]
  },
  {
   "cell_type": "code",
   "execution_count": 10,
   "id": "4233c66e",
   "metadata": {},
   "outputs": [
    {
     "name": "stdout",
     "output_type": "stream",
     "text": [
      "87.86\n",
      "90\n",
      "73.81\n"
     ]
    }
   ],
   "source": [
    "import statistics as stats\n",
    "scores = [75, 80, 90, 100, 85, 90, 95]\n",
    "mean = round(stats.mean(scores), 2)\n",
    "median = stats.median(scores)\n",
    "variance = round(stats.variance(scores), 2)\n",
    "print(mean)\n",
    "print(median)\n",
    "print(variance)"
   ]
  },
  {
   "cell_type": "code",
   "execution_count": 11,
   "id": "355706a5",
   "metadata": {},
   "outputs": [
    {
     "name": "stdout",
     "output_type": "stream",
     "text": [
      "(2.0, 1.0)\n"
     ]
    }
   ],
   "source": [
    "import math\n",
    "def quadratic_solver(a, b, c):\n",
    "    d = b**2 - 4*a*c\n",
    "    if d < 0:\n",
    "        return \"No real Roots\"\n",
    "    r1 = (-b + math.sqrt(d))/(2 * a)\n",
    "    r2 = (-b - math.sqrt(d))/(2 * a)\n",
    "    return r1, r2\n",
    "a, b, c = 1, -3, 2\n",
    "print(quadratic_solver(a, b, c))"
   ]
  },
  {
   "cell_type": "code",
   "execution_count": 14,
   "id": "3d8c33c9",
   "metadata": {},
   "outputs": [
    {
     "name": "stdout",
     "output_type": "stream",
     "text": [
      "Sum: 30\n"
     ]
    }
   ],
   "source": [
    "import sys\n",
    "sys.argv= [\"add.py\", \"5\",\"10\", \"15\"]\n",
    "nums = list(map(int, sys.argv[1:]))\n",
    "print(\"Sum:\", sum(nums))"
   ]
  },
  {
   "cell_type": "code",
   "execution_count": 18,
   "id": "f8366094",
   "metadata": {},
   "outputs": [
    {
     "name": "stdout",
     "output_type": "stream",
     "text": [
      "Paper\n",
      "Scissors\n",
      "Lose\n"
     ]
    }
   ],
   "source": [
    "import random\n",
    "choices = [\"Rock\", \"paper\", \"Scissors\"]\n",
    "user = input(\"Enter Rock, Paper, or Scissors:\")\n",
    "comp = random.choice(choices)\n",
    "print(user)\n",
    "print(comp)\n",
    "if user == comp:\n",
    "    print(\"Tie\")\n",
    "elif(user == \"Rock\" and comp == \"Scissors\") or (user == \"Paper\" and comp == \"Rock\") or (user == \"Scissors\" and comp == \"Paper\"):\n",
    "    print(\"Win \")\n",
    "else:\n",
    "    print(\"Lose\")\n",
    "\n"
   ]
  },
  {
   "cell_type": "code",
   "execution_count": null,
   "id": "073d8b70",
   "metadata": {},
   "outputs": [],
   "source": []
  }
 ],
 "metadata": {
  "kernelspec": {
   "display_name": "Python 3",
   "language": "python",
   "name": "python3"
  },
  "language_info": {
   "codemirror_mode": {
    "name": "ipython",
    "version": 3
   },
   "file_extension": ".py",
   "mimetype": "text/x-python",
   "name": "python",
   "nbconvert_exporter": "python",
   "pygments_lexer": "ipython3",
   "version": "3.13.2"
  }
 },
 "nbformat": 4,
 "nbformat_minor": 5
}
