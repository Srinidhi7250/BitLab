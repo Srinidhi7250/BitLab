{
 "cells": [
  {
   "cell_type": "code",
   "execution_count": 1,
   "id": "6eac185d",
   "metadata": {},
   "outputs": [
    {
     "name": "stdout",
     "output_type": "stream",
     "text": [
      "Average Marks: {'John': 85.0, 'Alice': 87.33, 'Bob': 75.0}\n",
      "Top Performer: Alice\n"
     ]
    }
   ],
   "source": [
    "def calculate_average(marks):\n",
    "    return round(sum(marks) / len(marks), 2)\n",
    "def get_top_performer(students):\n",
    "    averages = {name: calculate_average(scores) for name, scores in students.items()}\n",
    "    top_student = max(averages, key=averages.get)\n",
    "    return averages, top_student\n",
    "students = {\n",
    "    \"John\": [85, 78, 92],\n",
    "    \"Alice\": [88, 79, 95],\n",
    "    \"Bob\": [70, 75, 80]\n",
    "}\n",
    "averages, top_performer = get_top_performer(students)\n",
    "print(\"Average Marks:\", averages)\n",
    "print(\"Top Performer:\", top_performer)"
   ]
  }
 ],
 "metadata": {
  "kernelspec": {
   "display_name": "Python 3",
   "language": "python",
   "name": "python3"
  },
  "language_info": {
   "codemirror_mode": {
    "name": "ipython",
    "version": 3
   },
   "file_extension": ".py",
   "mimetype": "text/x-python",
   "name": "python",
   "nbconvert_exporter": "python",
   "pygments_lexer": "ipython3",
   "version": "3.13.2"
  }
 },
 "nbformat": 4,
 "nbformat_minor": 5
}
