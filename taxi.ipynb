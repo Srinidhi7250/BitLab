{
 "cells": [
  {
   "cell_type": "code",
   "execution_count": 1,
   "id": "868856da",
   "metadata": {},
   "outputs": [
    {
     "name": "stdout",
     "output_type": "stream",
     "text": [
      "Trip 1: $100\n",
      "Trip 2: $150\n",
      "Trip 3: $80\n",
      "Total Fare: $330\n"
     ]
    }
   ],
   "source": [
    "def calculate_fare(distance):\n",
    "    base_fare = 50\n",
    "    per_km = 10\n",
    "    return base_fare + (distance * per_km)\n",
    "trips = [5, 10, 3]\n",
    "total_fare = 0\n",
    "for i, distance in enumerate(trips, start=1):\n",
    "    fare = calculate_fare(distance)\n",
    "    print(f\"Trip {i}: ${fare}\")\n",
    "    total_fare += fare\n",
    "print(f\"Total Fare: ${total_fare}\")"
   ]
  }
 ],
 "metadata": {
  "kernelspec": {
   "display_name": "Python 3",
   "language": "python",
   "name": "python3"
  },
  "language_info": {
   "codemirror_mode": {
    "name": "ipython",
    "version": 3
   },
   "file_extension": ".py",
   "mimetype": "text/x-python",
   "name": "python",
   "nbconvert_exporter": "python",
   "pygments_lexer": "ipython3",
   "version": "3.13.2"
  }
 },
 "nbformat": 4,
 "nbformat_minor": 5
}
