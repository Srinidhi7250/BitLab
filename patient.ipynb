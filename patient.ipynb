{
 "cells": [
  {
   "cell_type": "code",
   "execution_count": 1,
   "id": "ae7cb2d1",
   "metadata": {},
   "outputs": [
    {
     "name": "stdout",
     "output_type": "stream",
     "text": [
      "Patients with Flu: ['Alice', 'Charlie']\n"
     ]
    }
   ],
   "source": [
    "def search_patients_by_disease(patients, disease):\n",
    "    return [patient[\"Name\"] for patient in patients if patient[\"Disease\"].lower() == disease.lower()]\n",
    "patients = [\n",
    "    {\"Name\": \"Alice\", \"Age\": 30, \"Disease\": \"Flu\"},\n",
    "    {\"Name\": \"Bob\", \"Age\": 45, \"Disease\": \"Diabetes\"},\n",
    "    {\"Name\": \"Charlie\", \"Age\": 35, \"Disease\": \"Flu\"}\n",
    "]\n",
    "search_disease = \"Flu\"\n",
    "matched = search_patients_by_disease(patients, search_disease)\n",
    "print(f\"Patients with {search_disease}:\", matched)"
   ]
  }
 ],
 "metadata": {
  "kernelspec": {
   "display_name": "Python 3",
   "language": "python",
   "name": "python3"
  },
  "language_info": {
   "codemirror_mode": {
    "name": "ipython",
    "version": 3
   },
   "file_extension": ".py",
   "mimetype": "text/x-python",
   "name": "python",
   "nbconvert_exporter": "python",
   "pygments_lexer": "ipython3",
   "version": "3.13.2"
  }
 },
 "nbformat": 4,
 "nbformat_minor": 5
}
