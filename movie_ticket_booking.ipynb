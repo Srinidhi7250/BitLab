{
 "cells": [
  {
   "cell_type": "code",
   "execution_count": 1,
   "id": "2b902cfb",
   "metadata": {},
   "outputs": [
    {
     "name": "stdout",
     "output_type": "stream",
     "text": [
      "Available seats: [1, 4, 5, 6, 8, 9, 10]\n"
     ]
    }
   ],
   "source": [
    "def get_available_seats(total, booked):\n",
    "    return [seat for seat in range(1, total + 1) if seat not in booked]\n",
    "def book_seat(booked, seat):\n",
    "    if seat in booked:\n",
    "        print(f\"Seat {seat} is already booked.\")\n",
    "    else:\n",
    "        booked.append(seat)\n",
    "def cancel_seat(booked, seat):\n",
    "    if seat in booked:\n",
    "        booked.remove(seat)\n",
    "    else:\n",
    "        print(f\"Seat {seat} is not booked.\")\n",
    "total_seats = 10\n",
    "booked_seats = [2, 5, 7]\n",
    "book_seat_num = 3\n",
    "cancel_seat_num = 5\n",
    "book_seat(booked_seats, book_seat_num)\n",
    "cancel_seat(booked_seats, cancel_seat_num)\n",
    "available = get_available_seats(total_seats, booked_seats)\n",
    "print(\"Available seats:\", available)"
   ]
  }
 ],
 "metadata": {
  "kernelspec": {
   "display_name": "Python 3",
   "language": "python",
   "name": "python3"
  },
  "language_info": {
   "codemirror_mode": {
    "name": "ipython",
    "version": 3
   },
   "file_extension": ".py",
   "mimetype": "text/x-python",
   "name": "python",
   "nbconvert_exporter": "python",
   "pygments_lexer": "ipython3",
   "version": "3.13.2"
  }
 },
 "nbformat": 4,
 "nbformat_minor": 5
}
