{
 "cells": [
  {
   "cell_type": "code",
   "execution_count": 1,
   "id": "763f47d3",
   "metadata": {},
   "outputs": [
    {
     "name": "stdout",
     "output_type": "stream",
     "text": [
      "Updated menu: ['Pizza', 'Burger', 'Pasta', 'Tacos']\n",
      "Availability: Pizza is available\n"
     ]
    }
   ],
   "source": [
    "def add_menu_item(menu, item):\n",
    "    if item not in menu:\n",
    "        menu.append(item)\n",
    "def remove_menu_item(menu, item):\n",
    "    if item in menu:\n",
    "        menu.remove(item)\n",
    "    else:\n",
    "        print(f\"{item} not found in menu.\")\n",
    "def check_menu_item(menu, item):\n",
    "    return f\"{item} is available\" if item in menu else f\"{item} is not available\"\n",
    "initial_menu = [\"Pizza\", \"Burger\", \"Pasta\", \"Salad\"]\n",
    "add_item = \"Tacos\"\n",
    "remove_item = \"Salad\"\n",
    "check_item = \"Pizza\"\n",
    "add_menu_item(initial_menu, add_item)\n",
    "remove_menu_item(initial_menu, remove_item)\n",
    "availability = check_menu_item(initial_menu, check_item)\n",
    "print(\"Updated menu:\", initial_menu)\n",
    "print(\"Availability:\", availability)"
   ]
  }
 ],
 "metadata": {
  "kernelspec": {
   "display_name": "Python 3",
   "language": "python",
   "name": "python3"
  },
  "language_info": {
   "codemirror_mode": {
    "name": "ipython",
    "version": 3
   },
   "file_extension": ".py",
   "mimetype": "text/x-python",
   "name": "python",
   "nbconvert_exporter": "python",
   "pygments_lexer": "ipython3",
   "version": "3.13.2"
  }
 },
 "nbformat": 4,
 "nbformat_minor": 5
}
